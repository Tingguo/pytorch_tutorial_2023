{
 "cells": [
  {
   "cell_type": "code",
   "execution_count": 3,
   "metadata": {},
   "outputs": [
    {
     "name": "stdout",
     "output_type": "stream",
     "text": [
      "2.0.1+cu117\n"
     ]
    }
   ],
   "source": [
    "import numpy as np\n",
    "import torch\n",
    "print(torch.__version__)"
   ]
  },
  {
   "cell_type": "code",
   "execution_count": 4,
   "metadata": {},
   "outputs": [
    {
     "name": "stdout",
     "output_type": "stream",
     "text": [
      "Type of data:<class 'list'>\n",
      "[[1, 1], [2, 2]]\n",
      "Type of data:<class 'numpy.ndarray'>\n",
      "[[1 1]\n",
      " [2 2]]\n"
     ]
    }
   ],
   "source": [
    "x1 = [[1,1],[2,2]]\n",
    "print(\"Type of data:{}\".format(type(x1)))\n",
    "print(x1)\n",
    "x1 = np.array(x1)\n",
    "print(\"Type of data:{}\".format(type(x1)))\n",
    "print(x1)"
   ]
  },
  {
   "cell_type": "code",
   "execution_count": 6,
   "metadata": {},
   "outputs": [
    {
     "name": "stdout",
     "output_type": "stream",
     "text": [
      "Type of data:<class 'torch.Tensor'>\n",
      "tensor([[1, 1],\n",
      "        [2, 2]])\n",
      "Type of data:<class 'torch.Tensor'>\n",
      "tensor([[1, 1],\n",
      "        [2, 2]])\n"
     ]
    }
   ],
   "source": [
    "x_tensor = torch.tensor(x1)\n",
    "print(\"Type of data:{}\".format(type(x_tensor)))\n",
    "print(x_tensor)\n",
    "x_tensor2 = torch.from_numpy(x1)\n",
    "print(\"Type of data:{}\".format(type(x_tensor2)))\n",
    "print(x_tensor2)"
   ]
  },
  {
   "cell_type": "code",
   "execution_count": 7,
   "metadata": {},
   "outputs": [
    {
     "name": "stdout",
     "output_type": "stream",
     "text": [
      "tensor([[0.8306, 0.5361],\n",
      "        [0.9034, 0.9569]])\n"
     ]
    }
   ],
   "source": [
    "print(torch.rand(2,2))"
   ]
  },
  {
   "cell_type": "code",
   "execution_count": 8,
   "metadata": {},
   "outputs": [
    {
     "name": "stdout",
     "output_type": "stream",
     "text": [
      "tensor(24)\n"
     ]
    }
   ],
   "source": [
    "arr1 = torch.tensor([1,2,4])\n",
    "arr2 = torch.tensor([2,3,4])\n",
    "print(torch.dot(arr1,arr2))"
   ]
  },
  {
   "cell_type": "code",
   "execution_count": 11,
   "metadata": {},
   "outputs": [
    {
     "name": "stdout",
     "output_type": "stream",
     "text": [
      "torch.Size([1, 3]) torch.Size([3, 1])\n",
      "tensor([[ 2,  4,  8],\n",
      "        [ 3,  6, 12],\n",
      "        [ 4,  8, 16]])\n"
     ]
    }
   ],
   "source": [
    "arr1 = torch.tensor([1,2,4]).reshape(1,-1)\n",
    "arr2 = torch.tensor([2,3,4]).reshape(-1,1)\n",
    "print(arr1.shape,arr2.shape)\n",
    "print(torch.mm(arr2,arr1))"
   ]
  },
  {
   "cell_type": "code",
   "execution_count": null,
   "metadata": {},
   "outputs": [],
   "source": []
  }
 ],
 "metadata": {
  "kernelspec": {
   "display_name": "Python 3",
   "language": "python",
   "name": "python3"
  },
  "language_info": {
   "codemirror_mode": {
    "name": "ipython",
    "version": 3
   },
   "file_extension": ".py",
   "mimetype": "text/x-python",
   "name": "python",
   "nbconvert_exporter": "python",
   "pygments_lexer": "ipython3",
   "version": "3.10.8"
  },
  "orig_nbformat": 4
 },
 "nbformat": 4,
 "nbformat_minor": 2
}
