{
 "cells": [
  {
   "cell_type": "code",
   "execution_count": 1,
   "metadata": {},
   "outputs": [],
   "source": [
    "# ---------------------------------------------------------------------------- #\n",
    "# An implementation of https://arxiv.org/pdf/1512.03385.pdf                    #\n",
    "# See section 4.2 for the model architecture on CIFAR-10                       #\n",
    "# Some part of the code was referenced from below                              #\n",
    "# https://github.com/pytorch/vision/blob/master/torchvision/models/resnet.py   #\n",
    "# ---------------------------------------------------------------------------- #"
   ]
  },
  {
   "cell_type": "code",
   "execution_count": 2,
   "metadata": {},
   "outputs": [],
   "source": [
    "import torch\n",
    "import torch.nn as nn\n",
    "import torchvision\n",
    "import torchvision.transforms as transforms"
   ]
  },
  {
   "cell_type": "code",
   "execution_count": 3,
   "metadata": {},
   "outputs": [],
   "source": [
    "# Device configuration\n",
    "device = torch.device('cuda' if torch.cuda.is_available() else 'cpu')"
   ]
  },
  {
   "cell_type": "code",
   "execution_count": 4,
   "metadata": {},
   "outputs": [],
   "source": [
    "# Hyper parameters\n",
    "num_epochs = 80\n",
    "batch_size = 100\n",
    "learning_rate = 0.001"
   ]
  },
  {
   "cell_type": "code",
   "execution_count": 6,
   "metadata": {},
   "outputs": [],
   "source": [
    "# Image preprocessing modules\n",
    "transform = transforms.Compose([\n",
    "    transforms.Pad(4), # zero-padding of size 4 on each side\n",
    "    transforms.RandomHorizontalFlip(), # randomly flip image horizontally\n",
    "    transforms.RandomCrop(32), # randomly crop image to 32x32\n",
    "    transforms.ToTensor() # convert the image to a pytorch tensor\n",
    "])"
   ]
  },
  {
   "cell_type": "code",
   "execution_count": 7,
   "metadata": {},
   "outputs": [
    {
     "name": "stdout",
     "output_type": "stream",
     "text": [
      "Downloading https://www.cs.toronto.edu/~kriz/cifar-10-python.tar.gz to ./data/cifar-10-python.tar.gz\n"
     ]
    },
    {
     "name": "stderr",
     "output_type": "stream",
     "text": [
      "100%|██████████| 170498071/170498071 [00:12<00:00, 13592308.58it/s]\n"
     ]
    },
    {
     "name": "stdout",
     "output_type": "stream",
     "text": [
      "Extracting ./data/cifar-10-python.tar.gz to ./data/\n"
     ]
    }
   ],
   "source": [
    "# CIFAR-10 dataset\n",
    "train_dataset = torchvision.datasets.CIFAR10(\n",
    "    root='./data/',\n",
    "    train=True,\n",
    "    transform=transform,\n",
    "    download=True,\n",
    ")\n",
    "test_dataset = torchvision.datasets.CIFAR10(\n",
    "    root='./data/',\n",
    "    train=False,\n",
    "    transform=transforms.ToTensor()\n",
    ")"
   ]
  },
  {
   "cell_type": "code",
   "execution_count": 8,
   "metadata": {},
   "outputs": [],
   "source": [
    "# data loader\n",
    "train_loader = torch.utils.data.DataLoader(\n",
    "    dataset=train_dataset,\n",
    "    batch_size=batch_size,\n",
    "    shuffle=True,\n",
    ")\n",
    "test_loader = torch.utils.data.DataLoader(\n",
    "    dataset=test_dataset,\n",
    "    batch_size=batch_size,\n",
    "    shuffle=False,\n",
    ")"
   ]
  },
  {
   "cell_type": "code",
   "execution_count": 9,
   "metadata": {},
   "outputs": [],
   "source": [
    "# 3*3 convolution\n",
    "def conv3x3(in_channels, out_channels, stride=1):\n",
    "    return nn.Conv2d(\n",
    "        in_channels,\n",
    "        out_channels,\n",
    "        kernel_size=3,\n",
    "        stride=stride,\n",
    "        padding=1,\n",
    "        bias=False, # because we use batch normalization layer after convolution layer \n",
    "    )"
   ]
  },
  {
   "cell_type": "code",
   "execution_count": 10,
   "metadata": {},
   "outputs": [],
   "source": [
    "# residual block\n",
    "class ResidualBlock(nn.Module):\n",
    "    def __init__(self,in_channels,out_channels,stride=1,downsample=None):\n",
    "        super(ResidualBlock,self).__init__()\n",
    "        self.conv1 = conv3x3(in_channels,out_channels,stride)\n",
    "        self.bn1 = nn.BatchNorm2d(out_channels)\n",
    "        self.relu = nn.ReLU(inplace=True)\n",
    "        self.conv2 = conv3x3(out_channels,out_channels)\n",
    "        self.bn2 = nn.BatchNorm2d(out_channels)\n",
    "        self.downsample = downsample\n",
    "\n",
    "    def forward(self,x):\n",
    "        residual = x\n",
    "        out = self.conv1(x)\n",
    "        out = self.bn1(out)\n",
    "        out = self.relu(out)\n",
    "        out = self.conv2(out)\n",
    "        out = self.bn2(out)\n",
    "        if self.downsample:\n",
    "            residual = self.downsample(x)\n",
    "        out += residual # skip connection\n",
    "        out = self.relu(out)\n",
    "        return out"
   ]
  },
  {
   "cell_type": "code",
   "execution_count": 11,
   "metadata": {},
   "outputs": [],
   "source": [
    "# ResNet\n",
    "class ResNet(nn.Module):\n",
    "    def __init__(self,block,layers,num_classes=10):\n",
    "        super(ResNet,self).__init__()\n",
    "        self.in_channels = 16\n",
    "        self.conv = conv3x3(3,16)\n",
    "        self.bn = nn.BatchNorm2d(16)\n",
    "        self.relu = nn.ReLU(inplace=True)\n",
    "        self.layer1 = self.make_layer(block,16,layers[0])\n",
    "        self.layer2 = self.make_layer(block,32,layers[1],2)\n",
    "        self.layer3 = self.make_layer(block,64,layers[2],2)\n",
    "        self.avg_pool = nn.AvgPool2d(8) # input size: 64*8*8, output size: 64*1*1\n",
    "        self.fc = nn.Linear(64,num_classes)\n",
    "\n",
    "    def make_layer(self,block,out_channels,blocks,stride=1):\n",
    "        downsample = None\n",
    "        if (stride!=1) or (self.in_channels!=out_channels):\n",
    "            downsample = nn.Sequential(\n",
    "                conv3x3(self.in_channels,out_channels,stride=stride),\n",
    "                nn.BatchNorm2d(out_channels),\n",
    "            )\n",
    "        layers = []\n",
    "        layers.append(block(self.in_channels,out_channels,stride,downsample))\n",
    "        self.in_channels = out_channels\n",
    "        for i in range(1,blocks):\n",
    "            layers.append(block(out_channels,out_channels))\n",
    "        return nn.Sequential(*layers)\n",
    "    \n",
    "    def forward(self,x):\n",
    "        out = self.conv(x)\n",
    "        out = self.bn(out)\n",
    "        out = self.relu(out)\n",
    "        out = self.layer1(out)\n",
    "        out = self.layer2(out)\n",
    "        out = self.layer3(out)\n",
    "        out = self.avg_pool(out)\n",
    "        out = out.view(out.size(0),-1)\n",
    "        out = self.fc(out)\n",
    "        return out"
   ]
  },
  {
   "cell_type": "code",
   "execution_count": 12,
   "metadata": {},
   "outputs": [],
   "source": [
    "model = ResNet(ResidualBlock,[2,2,2]).to(device)\n",
    "criterion = nn.CrossEntropyLoss()\n",
    "optimizer = torch.optim.Adam(model.parameters(),lr=learning_rate)"
   ]
  },
  {
   "cell_type": "code",
   "execution_count": 13,
   "metadata": {},
   "outputs": [],
   "source": [
    "# for updating learning rate\n",
    "def update_lr(optimizer,lr):\n",
    "    for param_group in optimizer.param_groups:\n",
    "        param_group['lr'] = lr"
   ]
  },
  {
   "cell_type": "code",
   "execution_count": 15,
   "metadata": {},
   "outputs": [
    {
     "name": "stdout",
     "output_type": "stream",
     "text": [
      "Epoch [1/80], Step [100/500] Loss: 1.6501\n",
      "Epoch [1/80], Step [200/500] Loss: 1.4400\n",
      "Epoch [1/80], Step [300/500] Loss: 1.3809\n",
      "Epoch [1/80], Step [400/500] Loss: 1.1086\n",
      "Epoch [1/80], Step [500/500] Loss: 1.4153\n",
      "Epoch [2/80], Step [100/500] Loss: 0.9813\n",
      "Epoch [2/80], Step [200/500] Loss: 1.0728\n",
      "Epoch [2/80], Step [300/500] Loss: 0.9111\n",
      "Epoch [2/80], Step [400/500] Loss: 0.8972\n",
      "Epoch [2/80], Step [500/500] Loss: 0.8328\n",
      "Epoch [3/80], Step [100/500] Loss: 0.8574\n",
      "Epoch [3/80], Step [200/500] Loss: 0.8469\n",
      "Epoch [3/80], Step [300/500] Loss: 0.9125\n",
      "Epoch [3/80], Step [400/500] Loss: 0.8145\n",
      "Epoch [3/80], Step [500/500] Loss: 0.8242\n",
      "Epoch [4/80], Step [100/500] Loss: 0.8386\n",
      "Epoch [4/80], Step [200/500] Loss: 0.5633\n",
      "Epoch [4/80], Step [300/500] Loss: 0.7233\n",
      "Epoch [4/80], Step [400/500] Loss: 0.8211\n",
      "Epoch [4/80], Step [500/500] Loss: 0.9209\n",
      "Epoch [5/80], Step [100/500] Loss: 0.5920\n",
      "Epoch [5/80], Step [200/500] Loss: 0.6679\n",
      "Epoch [5/80], Step [300/500] Loss: 0.7437\n",
      "Epoch [5/80], Step [400/500] Loss: 0.6082\n",
      "Epoch [5/80], Step [500/500] Loss: 0.6250\n",
      "Epoch [6/80], Step [100/500] Loss: 0.6235\n",
      "Epoch [6/80], Step [200/500] Loss: 0.5051\n",
      "Epoch [6/80], Step [300/500] Loss: 0.8153\n",
      "Epoch [6/80], Step [400/500] Loss: 0.5099\n",
      "Epoch [6/80], Step [500/500] Loss: 0.6676\n",
      "Epoch [7/80], Step [100/500] Loss: 0.5144\n",
      "Epoch [7/80], Step [200/500] Loss: 0.6703\n",
      "Epoch [7/80], Step [300/500] Loss: 0.5259\n",
      "Epoch [7/80], Step [400/500] Loss: 0.6298\n",
      "Epoch [7/80], Step [500/500] Loss: 0.4278\n",
      "Epoch [8/80], Step [100/500] Loss: 0.4446\n",
      "Epoch [8/80], Step [200/500] Loss: 0.4599\n",
      "Epoch [8/80], Step [300/500] Loss: 0.7319\n",
      "Epoch [8/80], Step [400/500] Loss: 0.4874\n",
      "Epoch [8/80], Step [500/500] Loss: 0.6610\n",
      "Epoch [9/80], Step [100/500] Loss: 0.6038\n",
      "Epoch [9/80], Step [200/500] Loss: 0.4708\n",
      "Epoch [9/80], Step [300/500] Loss: 0.3897\n",
      "Epoch [9/80], Step [400/500] Loss: 0.4069\n",
      "Epoch [9/80], Step [500/500] Loss: 0.6034\n",
      "Epoch [10/80], Step [100/500] Loss: 0.4595\n",
      "Epoch [10/80], Step [200/500] Loss: 0.5864\n",
      "Epoch [10/80], Step [300/500] Loss: 0.5121\n",
      "Epoch [10/80], Step [400/500] Loss: 0.5915\n",
      "Epoch [10/80], Step [500/500] Loss: 0.7598\n",
      "Epoch [11/80], Step [100/500] Loss: 0.5057\n",
      "Epoch [11/80], Step [200/500] Loss: 0.4583\n",
      "Epoch [11/80], Step [300/500] Loss: 0.5235\n",
      "Epoch [11/80], Step [400/500] Loss: 0.4981\n",
      "Epoch [11/80], Step [500/500] Loss: 0.5823\n",
      "Epoch [12/80], Step [100/500] Loss: 0.4522\n",
      "Epoch [12/80], Step [200/500] Loss: 0.3980\n",
      "Epoch [12/80], Step [300/500] Loss: 0.5150\n",
      "Epoch [12/80], Step [400/500] Loss: 0.4867\n",
      "Epoch [12/80], Step [500/500] Loss: 0.4677\n",
      "Epoch [13/80], Step [100/500] Loss: 0.5455\n",
      "Epoch [13/80], Step [200/500] Loss: 0.3978\n",
      "Epoch [13/80], Step [300/500] Loss: 0.4701\n",
      "Epoch [13/80], Step [400/500] Loss: 0.5302\n",
      "Epoch [13/80], Step [500/500] Loss: 0.5558\n",
      "Epoch [14/80], Step [100/500] Loss: 0.6727\n",
      "Epoch [14/80], Step [200/500] Loss: 0.4461\n",
      "Epoch [14/80], Step [300/500] Loss: 0.3926\n",
      "Epoch [14/80], Step [400/500] Loss: 0.4152\n",
      "Epoch [14/80], Step [500/500] Loss: 0.4625\n",
      "Epoch [15/80], Step [100/500] Loss: 0.2888\n",
      "Epoch [15/80], Step [200/500] Loss: 0.4915\n",
      "Epoch [15/80], Step [300/500] Loss: 0.3078\n",
      "Epoch [15/80], Step [400/500] Loss: 0.2921\n",
      "Epoch [15/80], Step [500/500] Loss: 0.3350\n",
      "Epoch [16/80], Step [100/500] Loss: 0.3461\n",
      "Epoch [16/80], Step [200/500] Loss: 0.3784\n",
      "Epoch [16/80], Step [300/500] Loss: 0.4030\n",
      "Epoch [16/80], Step [400/500] Loss: 0.2944\n",
      "Epoch [16/80], Step [500/500] Loss: 0.4265\n",
      "Epoch [17/80], Step [100/500] Loss: 0.2639\n",
      "Epoch [17/80], Step [200/500] Loss: 0.3830\n",
      "Epoch [17/80], Step [300/500] Loss: 0.4044\n",
      "Epoch [17/80], Step [400/500] Loss: 0.3873\n",
      "Epoch [17/80], Step [500/500] Loss: 0.3787\n",
      "Epoch [18/80], Step [100/500] Loss: 0.3588\n",
      "Epoch [18/80], Step [200/500] Loss: 0.2513\n",
      "Epoch [18/80], Step [300/500] Loss: 0.2508\n",
      "Epoch [18/80], Step [400/500] Loss: 0.4479\n",
      "Epoch [18/80], Step [500/500] Loss: 0.3840\n",
      "Epoch [19/80], Step [100/500] Loss: 0.4679\n",
      "Epoch [19/80], Step [200/500] Loss: 0.3222\n"
     ]
    },
    {
     "ename": "",
     "evalue": "",
     "output_type": "error",
     "traceback": [
      "\u001b[1;31mCannot execute code, session has been disposed. Please try restarting the Kernel."
     ]
    },
    {
     "ename": "",
     "evalue": "",
     "output_type": "error",
     "traceback": [
      "\u001b[1;31mThe Kernel crashed while executing code in the the current cell or a previous cell. Please review the code in the cell(s) to identify a possible cause of the failure. Click <a href='https://aka.ms/vscodeJupyterKernelCrash'>here</a> for more info. View Jupyter <a href='command:jupyter.viewOutput'>log</a> for further details."
     ]
    }
   ],
   "source": [
    "# Train the model\n",
    "total_step = len(train_loader)\n",
    "curr_lr = learning_rate\n",
    "for epoch in range(num_epochs):\n",
    "    for i, (images,labels) in enumerate(train_loader):\n",
    "        images = images.to(device)\n",
    "        labels = labels.to(device)\n",
    "\n",
    "        # Forward pass\n",
    "        outputs = model(images)\n",
    "        loss = criterion(outputs,labels)\n",
    "        optimizer.zero_grad()\n",
    "        loss.backward()\n",
    "        optimizer.step()\n",
    "\n",
    "        if (i+1) % 100 == 0:\n",
    "            print(\"Epoch [{}/{}], Step [{}/{}] Loss: {:.4f}\".format(\n",
    "                epoch+1,num_epochs,i+1,total_step,loss.item()\n",
    "            ))\n",
    "\n",
    "    # Decay learning rate\n",
    "    if (epoch+1) % 20 == 0:\n",
    "        curr_lr /= 3\n",
    "        update_lr(optimizer,curr_lr)"
   ]
  },
  {
   "cell_type": "code",
   "execution_count": null,
   "metadata": {},
   "outputs": [],
   "source": [
    "# Test the model\n",
    "model.eval()\n",
    "with torch.no_grad():\n",
    "    correct = 0\n",
    "    total = 0\n",
    "    for images,labels in test_loader:\n",
    "        images = images.to(device)\n",
    "        labels = labels.to(device)\n",
    "        outputs = model(images)\n",
    "        _,predicted = torch.max(outputs.data,1)\n",
    "        total += labels.size(0)\n",
    "        correct += (predicted == labels).sum().item()\n",
    "    \n",
    "    print(\"Accuracy of the model on the test images: {}%\".format(100*correct/total))"
   ]
  }
 ],
 "metadata": {
  "kernelspec": {
   "display_name": "Python 3",
   "language": "python",
   "name": "python3"
  },
  "language_info": {
   "codemirror_mode": {
    "name": "ipython",
    "version": 3
   },
   "file_extension": ".py",
   "mimetype": "text/x-python",
   "name": "python",
   "nbconvert_exporter": "python",
   "pygments_lexer": "ipython3",
   "version": "3.10.8"
  },
  "orig_nbformat": 4
 },
 "nbformat": 4,
 "nbformat_minor": 2
}
