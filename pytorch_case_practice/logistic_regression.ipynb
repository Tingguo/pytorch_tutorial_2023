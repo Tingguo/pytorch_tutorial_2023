{
 "cells": [
  {
   "cell_type": "code",
   "execution_count": 1,
   "metadata": {},
   "outputs": [],
   "source": [
    "import torch\n",
    "import torch.nn as nn\n",
    "import torchvision\n",
    "import torchvision.transforms as transforms"
   ]
  },
  {
   "cell_type": "code",
   "execution_count": 2,
   "metadata": {},
   "outputs": [],
   "source": [
    "# Hyper-parameters\n",
    "input_size = 28 * 28\n",
    "num_classes = 10\n",
    "num_epochs = 5\n",
    "batch_size = 100\n",
    "learning_rate = 0.001"
   ]
  },
  {
   "cell_type": "code",
   "execution_count": 3,
   "metadata": {},
   "outputs": [],
   "source": [
    "# MNIST dataset\n",
    "train_dataset = torchvision.datasets.MNIST(\n",
    "    root='./data',\n",
    "    train=True,\n",
    "    transform=transforms.ToTensor(),\n",
    "    download=False,\n",
    ")\n",
    "test_dataset = torchvision.datasets.MNIST(\n",
    "    root='./data',\n",
    "    train=False,\n",
    "    transform=transforms.ToTensor(),\n",
    ")\n",
    "\n",
    "# Data Loader   \n",
    "train_loader = torch.utils.data.DataLoader(\n",
    "    dataset=train_dataset,\n",
    "    batch_size=batch_size,\n",
    "    shuffle=True,\n",
    ")\n",
    "test_loader = torch.utils.data.DataLoader(\n",
    "    dataset=test_dataset,\n",
    "    batch_size=batch_size,\n",
    "    shuffle=False,\n",
    ")"
   ]
  },
  {
   "cell_type": "code",
   "execution_count": 4,
   "metadata": {},
   "outputs": [],
   "source": [
    "# Logistic regression model\n",
    "model = nn.Linear(input_size, num_classes)\n",
    "# Loss and optimizer\n",
    "criterion = nn.CrossEntropyLoss()\n",
    "optimizer = torch.optim.SGD(model.parameters(), lr=learning_rate)"
   ]
  },
  {
   "cell_type": "code",
   "execution_count": 5,
   "metadata": {},
   "outputs": [
    {
     "name": "stdout",
     "output_type": "stream",
     "text": [
      "Epoch [1/5], Step [100/600], Loss: 2.2321\n",
      "Epoch [1/5], Step [200/600], Loss: 2.1100\n",
      "Epoch [1/5], Step [300/600], Loss: 2.0389\n",
      "Epoch [1/5], Step [400/600], Loss: 1.9607\n",
      "Epoch [1/5], Step [500/600], Loss: 1.8585\n",
      "Epoch [1/5], Step [600/600], Loss: 1.7844\n",
      "Epoch [2/5], Step [100/600], Loss: 1.6833\n",
      "Epoch [2/5], Step [200/600], Loss: 1.6769\n",
      "Epoch [2/5], Step [300/600], Loss: 1.6444\n",
      "Epoch [2/5], Step [400/600], Loss: 1.6026\n",
      "Epoch [2/5], Step [500/600], Loss: 1.5909\n",
      "Epoch [2/5], Step [600/600], Loss: 1.3385\n",
      "Epoch [3/5], Step [100/600], Loss: 1.4833\n",
      "Epoch [3/5], Step [200/600], Loss: 1.4988\n",
      "Epoch [3/5], Step [300/600], Loss: 1.3709\n",
      "Epoch [3/5], Step [400/600], Loss: 1.3811\n",
      "Epoch [3/5], Step [500/600], Loss: 1.4390\n",
      "Epoch [3/5], Step [600/600], Loss: 1.2225\n",
      "Epoch [4/5], Step [100/600], Loss: 1.2531\n",
      "Epoch [4/5], Step [200/600], Loss: 1.1235\n",
      "Epoch [4/5], Step [300/600], Loss: 1.1170\n",
      "Epoch [4/5], Step [400/600], Loss: 1.2090\n",
      "Epoch [4/5], Step [500/600], Loss: 1.1034\n",
      "Epoch [4/5], Step [600/600], Loss: 1.1767\n",
      "Epoch [5/5], Step [100/600], Loss: 1.1632\n",
      "Epoch [5/5], Step [200/600], Loss: 1.0551\n",
      "Epoch [5/5], Step [300/600], Loss: 1.0850\n",
      "Epoch [5/5], Step [400/600], Loss: 1.0524\n",
      "Epoch [5/5], Step [500/600], Loss: 1.0467\n",
      "Epoch [5/5], Step [600/600], Loss: 0.9877\n",
      "Accuracy of the model on the 10000 test images: 82.79%\n"
     ]
    }
   ],
   "source": [
    "# Train  the model\n",
    "total_step = len(train_loader)\n",
    "for epoch in range(num_epochs):\n",
    "    for i, (images,labels) in enumerate(train_loader):\n",
    "        # Reshape images to (batch_size, input_size)\n",
    "        images = images.reshape(-1, input_size)\n",
    "\n",
    "        # Forward pass\n",
    "        outputs = model(images)\n",
    "        loss = criterion(outputs,labels)\n",
    "\n",
    "        # Backward and optimize\n",
    "        optimizer.zero_grad()\n",
    "        loss.backward()\n",
    "        optimizer.step()\n",
    "\n",
    "        if (i+1) % 100 == 0:\n",
    "            print(f'Epoch [{epoch+1}/{num_epochs}], Step [{i+1}/{total_step}], Loss: {loss.item():.4f}')\n",
    "\n",
    "# Test the model\n",
    "with torch.no_grad():\n",
    "    correct = 0\n",
    "    total = 0\n",
    "    for images, labels in test_loader:\n",
    "        images = images.reshape(-1, input_size)\n",
    "        outputs = model(images)\n",
    "        _,predicted = torch.max(outputs.data, 1) # outputs.data.max(1) returns (values, indices)\n",
    "        total += labels.size(0)\n",
    "        correct += (predicted==labels).sum().item()\n",
    "\n",
    "    print(f'Accuracy of the model on the 10000 test images: {100*correct/total}%')"
   ]
  },
  {
   "cell_type": "code",
   "execution_count": null,
   "metadata": {},
   "outputs": [],
   "source": []
  }
 ],
 "metadata": {
  "kernelspec": {
   "display_name": "Python 3",
   "language": "python",
   "name": "python3"
  },
  "language_info": {
   "codemirror_mode": {
    "name": "ipython",
    "version": 3
   },
   "file_extension": ".py",
   "mimetype": "text/x-python",
   "name": "python",
   "nbconvert_exporter": "python",
   "pygments_lexer": "ipython3",
   "version": "3.10.8"
  },
  "orig_nbformat": 4
 },
 "nbformat": 4,
 "nbformat_minor": 2
}
