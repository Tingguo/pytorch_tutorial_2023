{
 "cells": [
  {
   "cell_type": "code",
   "execution_count": 2,
   "metadata": {},
   "outputs": [],
   "source": [
    "import torch\n",
    "import torch.nn as nn\n",
    "import torchvision\n",
    "import torchvision.transforms as transforms"
   ]
  },
  {
   "cell_type": "code",
   "execution_count": 3,
   "metadata": {},
   "outputs": [
    {
     "data": {
      "text/plain": [
       "device(type='cpu')"
      ]
     },
     "execution_count": 3,
     "metadata": {},
     "output_type": "execute_result"
    }
   ],
   "source": [
    "# Device configuration\n",
    "device = torch.device('cuda' if torch.cuda.is_available() else 'cpu')\n",
    "device"
   ]
  },
  {
   "cell_type": "code",
   "execution_count": 4,
   "metadata": {},
   "outputs": [],
   "source": [
    "# Hyper parameters\n",
    "num_epochs = 5\n",
    "num_classes = 10\n",
    "batch_size = 100\n",
    "learning_rate = 0.001"
   ]
  },
  {
   "cell_type": "code",
   "execution_count": 5,
   "metadata": {},
   "outputs": [],
   "source": [
    "# MNIST dataset\n",
    "train_dataset = torchvision.datasets.MNIST(\n",
    "    root = './data',\n",
    "    train = True,\n",
    "    transform = transforms.ToTensor(),\n",
    "    download = True\n",
    ")\n",
    "test_dataset = torchvision.datasets.MNIST(\n",
    "    root = './data',\n",
    "    train = False,\n",
    "    transform = transforms.ToTensor(),\n",
    ")"
   ]
  },
  {
   "cell_type": "code",
   "execution_count": 6,
   "metadata": {},
   "outputs": [],
   "source": [
    "# Data loader\n",
    "train_loader = torch.utils.data.DataLoader(\n",
    "    dataset = train_dataset,\n",
    "    batch_size = batch_size,\n",
    "    shuffle = True,\n",
    ")\n",
    "test_loader = torch.utils.data.DataLoader(\n",
    "    dataset = test_dataset,\n",
    "    batch_size = batch_size,\n",
    "    shuffle = False,\n",
    ")"
   ]
  },
  {
   "cell_type": "code",
   "execution_count": 8,
   "metadata": {},
   "outputs": [],
   "source": [
    "# Convolutional neural network (two convolutional layers)\n",
    "class ConvNet(nn.Module):\n",
    "    def __init__(self,num_classes=10):\n",
    "        super(ConvNet,self).__init__()\n",
    "        self.layer1 = nn.Sequential(\n",
    "            nn.Conv2d(1,16,kernel_size=5,stride=1,padding=2), # 1*28*28 -> 16*28*28  output_size = (input_size + 2*padding - kernel_size)/stride + 1\n",
    "            nn.BatchNorm2d(16),\n",
    "            nn.ReLU(),\n",
    "            nn.MaxPool2d(kernel_size=2,stride=2) # 16*28*28 -> 16*14*14 output_size = (input_size - kernel_size)/stride + 1\n",
    "        )\n",
    "        self.layer2 = nn.Sequential(\n",
    "            nn.Conv2d(16,32,kernel_size=5,stride=1,padding=2), # 16*14*14 -> 32*14*14\n",
    "            nn.BatchNorm2d(32),\n",
    "            nn.ReLU(),\n",
    "            nn.MaxPool2d(kernel_size=2,stride=2) # 32*14*14 -> 32*7*7\n",
    "        )\n",
    "        self.fc = nn.Linear(7*7*32,num_classes)\n",
    "\n",
    "    def forward(self,x):\n",
    "        out = self.layer1(x)\n",
    "        out = self.layer2(out)\n",
    "        out = out.reshape(out.size(0),-1) # flatten. the output of conv2 to (batch_size, 32*7*7)\n",
    "        out = self.fc(out)\n",
    "        return out\n"
   ]
  },
  {
   "cell_type": "code",
   "execution_count": 9,
   "metadata": {},
   "outputs": [],
   "source": [
    "model = ConvNet(num_classes).to(device)\n",
    "# loss and optimizer\n",
    "criterion = nn.CrossEntropyLoss()\n",
    "optimizer = torch.optim.Adam(model.parameters(),lr=learning_rate)"
   ]
  },
  {
   "cell_type": "code",
   "execution_count": 10,
   "metadata": {},
   "outputs": [
    {
     "name": "stdout",
     "output_type": "stream",
     "text": [
      "Epoch [1/5], Step [100/600], Loss: 0.1246\n",
      "Epoch [1/5], Step [200/600], Loss: 0.0777\n",
      "Epoch [1/5], Step [300/600], Loss: 0.0165\n",
      "Epoch [1/5], Step [400/600], Loss: 0.0307\n",
      "Epoch [1/5], Step [500/600], Loss: 0.0391\n",
      "Epoch [1/5], Step [600/600], Loss: 0.0501\n",
      "Epoch [2/5], Step [100/600], Loss: 0.0609\n",
      "Epoch [2/5], Step [200/600], Loss: 0.0203\n",
      "Epoch [2/5], Step [300/600], Loss: 0.0037\n",
      "Epoch [2/5], Step [400/600], Loss: 0.0693\n",
      "Epoch [2/5], Step [500/600], Loss: 0.0692\n",
      "Epoch [2/5], Step [600/600], Loss: 0.0344\n",
      "Epoch [3/5], Step [100/600], Loss: 0.0175\n",
      "Epoch [3/5], Step [200/600], Loss: 0.0514\n",
      "Epoch [3/5], Step [300/600], Loss: 0.0107\n",
      "Epoch [3/5], Step [400/600], Loss: 0.0044\n",
      "Epoch [3/5], Step [500/600], Loss: 0.0017\n",
      "Epoch [3/5], Step [600/600], Loss: 0.0677\n",
      "Epoch [4/5], Step [100/600], Loss: 0.0027\n",
      "Epoch [4/5], Step [200/600], Loss: 0.0900\n",
      "Epoch [4/5], Step [300/600], Loss: 0.0267\n",
      "Epoch [4/5], Step [400/600], Loss: 0.0132\n",
      "Epoch [4/5], Step [500/600], Loss: 0.0222\n",
      "Epoch [4/5], Step [600/600], Loss: 0.0789\n",
      "Epoch [5/5], Step [100/600], Loss: 0.0287\n",
      "Epoch [5/5], Step [200/600], Loss: 0.0263\n",
      "Epoch [5/5], Step [300/600], Loss: 0.0181\n",
      "Epoch [5/5], Step [400/600], Loss: 0.0446\n",
      "Epoch [5/5], Step [500/600], Loss: 0.0402\n",
      "Epoch [5/5], Step [600/600], Loss: 0.0273\n"
     ]
    }
   ],
   "source": [
    "# Train the model\n",
    "total_step = len(train_loader)\n",
    "for epoch in range(num_epochs):\n",
    "    for i, (images,labels) in enumerate(train_loader):\n",
    "        images = images.to(device)\n",
    "        labels = labels.to(device)\n",
    "\n",
    "        # Forward pass\n",
    "        outputs = model(images)\n",
    "        loss = criterion(outputs,labels)\n",
    "        optimizer.zero_grad()\n",
    "        loss.backward()\n",
    "        optimizer.step()\n",
    "\n",
    "        if (i+1) % 100 == 0:\n",
    "            print('Epoch [{}/{}], Step [{}/{}], Loss: {:.4f}'.format(\n",
    "                epoch+1,num_epochs,i+1,total_step,loss.item()\n",
    "            ))"
   ]
  },
  {
   "cell_type": "code",
   "execution_count": 11,
   "metadata": {},
   "outputs": [
    {
     "name": "stdout",
     "output_type": "stream",
     "text": [
      "Accuracy of the model on the 10000 test images: 98.26%\n"
     ]
    }
   ],
   "source": [
    "model.eval()\n",
    "with torch.no_grad():\n",
    "    correct = 0\n",
    "    total = 0\n",
    "    for images, labels in test_loader:\n",
    "        images = images.to(device)\n",
    "        labels = labels.to(device)\n",
    "        outputs = model(images)\n",
    "        _,predicted = torch.max(outputs.data,1)\n",
    "        total += labels.size(0)\n",
    "        correct += (predicted == labels).sum().item()\n",
    "\n",
    "    print('Accuracy of the model on the 10000 test images: {}%'.format(100*correct/total))"
   ]
  },
  {
   "cell_type": "code",
   "execution_count": null,
   "metadata": {},
   "outputs": [],
   "source": []
  }
 ],
 "metadata": {
  "kernelspec": {
   "display_name": "Python 3",
   "language": "python",
   "name": "python3"
  },
  "language_info": {
   "codemirror_mode": {
    "name": "ipython",
    "version": 3
   },
   "file_extension": ".py",
   "mimetype": "text/x-python",
   "name": "python",
   "nbconvert_exporter": "python",
   "pygments_lexer": "ipython3",
   "version": "3.10.8"
  },
  "orig_nbformat": 4
 },
 "nbformat": 4,
 "nbformat_minor": 2
}
